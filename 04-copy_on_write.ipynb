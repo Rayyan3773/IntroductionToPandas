{
 "cells": [
  {
   "cell_type": "code",
   "execution_count": 1,
   "id": "0e1ea811-aa9e-418c-a47e-c8bcbec07827",
   "metadata": {},
   "outputs": [],
   "source": [
    "import pandas as pd"
   ]
  },
  {
   "cell_type": "code",
   "execution_count": 2,
   "id": "3de10a71-b25d-4433-8470-7c86a2903a2f",
   "metadata": {},
   "outputs": [
    {
     "data": {
      "text/plain": [
       "'2.1.4'"
      ]
     },
     "execution_count": 2,
     "metadata": {},
     "output_type": "execute_result"
    }
   ],
   "source": [
    "pd.__version__"
   ]
  },
  {
   "cell_type": "code",
   "execution_count": 3,
   "id": "a6de856f-e735-4a46-aa70-de51580199f6",
   "metadata": {},
   "outputs": [],
   "source": [
    "scientists = pd.read_csv(\"data/scientists.csv\")"
   ]
  },
  {
   "cell_type": "code",
   "execution_count": 4,
   "id": "cc4e3a60-25dd-4994-a5a3-11837932a08c",
   "metadata": {},
   "outputs": [
    {
     "name": "stderr",
     "output_type": "stream",
     "text": [
      "C:\\Users\\Danie\\AppData\\Local\\Temp\\ipykernel_19956\\4174072849.py:2: SettingWithCopyWarning: \n",
      "A value is trying to be set on a copy of a slice from a DataFrame.\n",
      "Try using .loc[row_indexer,col_indexer] = value instead\n",
      "\n",
      "See the caveats in the documentation: https://pandas.pydata.org/pandas-docs/stable/user_guide/indexing.html#returning-a-view-versus-a-copy\n",
      "  sub[\"died_dt\"] =  pd.to_datetime(scientists[\"Died\"], format=\"%Y-%m-%d\")\n"
     ]
    }
   ],
   "source": [
    "sub = scientists.loc[scientists.Age < 60]\n",
    "sub[\"died_dt\"] =  pd.to_datetime(scientists[\"Died\"], format=\"%Y-%m-%d\")"
   ]
  },
  {
   "cell_type": "markdown",
   "id": "4d0dba48-8883-4b45-b0fe-1d0a2e83afee",
   "metadata": {},
   "source": [
    "<https://pandas.pydata.org/docs/user_guide/copy_on_write.html>"
   ]
  },
  {
   "cell_type": "code",
   "execution_count": 4,
   "id": "85ce920f-dbd0-49ef-98ad-5f35c96d63de",
   "metadata": {},
   "outputs": [],
   "source": [
    "pd.set_option(\"mode.copy_on_write\", True)"
   ]
  },
  {
   "cell_type": "code",
   "execution_count": 5,
   "id": "c060cdc8-f73d-4d14-8e34-fbbeb332f16e",
   "metadata": {},
   "outputs": [],
   "source": [
    "sub = scientists.loc[scientists.Age < 60]\n",
    "sub[\"died_dt\"] =  pd.to_datetime(scientists[\"Died\"], format=\"%Y-%m-%d\")"
   ]
  },
  {
   "cell_type": "code",
   "execution_count": null,
   "id": "d23bc890-36c9-422d-8282-2184d172e31e",
   "metadata": {},
   "outputs": [],
   "source": []
  }
 ],
 "metadata": {
  "kernelspec": {
   "display_name": "Python 3 (ipykernel)",
   "language": "python",
   "name": "python3"
  },
  "language_info": {
   "codemirror_mode": {
    "name": "ipython",
    "version": 3
   },
   "file_extension": ".py",
   "mimetype": "text/x-python",
   "name": "python",
   "nbconvert_exporter": "python",
   "pygments_lexer": "ipython3",
   "version": "3.12.0"
  }
 },
 "nbformat": 4,
 "nbformat_minor": 5
}
