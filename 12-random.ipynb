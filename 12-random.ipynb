{
 "cells": [
  {
   "cell_type": "code",
   "execution_count": 1,
   "id": "9d33eb38-f978-4bdd-8d9c-cc5d8cd9dc9a",
   "metadata": {},
   "outputs": [
    {
     "data": {
      "text/plain": [
       "123123123123123"
      ]
     },
     "execution_count": 1,
     "metadata": {},
     "output_type": "execute_result"
    }
   ],
   "source": [
    "123123123123123"
   ]
  },
  {
   "cell_type": "code",
   "execution_count": 2,
   "id": "6fddd44a-fb1a-4f05-b662-edf33fe00a1c",
   "metadata": {},
   "outputs": [
    {
     "data": {
      "text/plain": [
       "123123123123123"
      ]
     },
     "execution_count": 2,
     "metadata": {},
     "output_type": "execute_result"
    }
   ],
   "source": [
    "123_123_123_123_123"
   ]
  },
  {
   "cell_type": "code",
   "execution_count": 3,
   "id": "50e4e362-95ed-43e6-9995-51337809b645",
   "metadata": {},
   "outputs": [
    {
     "data": {
      "text/plain": [
       "10000"
      ]
     },
     "execution_count": 3,
     "metadata": {},
     "output_type": "execute_result"
    }
   ],
   "source": [
    "10000"
   ]
  },
  {
   "cell_type": "code",
   "execution_count": 4,
   "id": "cda86941-8199-4868-b1b5-c8e06a43865b",
   "metadata": {},
   "outputs": [
    {
     "data": {
      "text/plain": [
       "10000"
      ]
     },
     "execution_count": 4,
     "metadata": {},
     "output_type": "execute_result"
    }
   ],
   "source": [
    "10_000"
   ]
  },
  {
   "cell_type": "code",
   "execution_count": 5,
   "id": "19bbb02b-98b5-418e-b9c0-c99416c116f3",
   "metadata": {},
   "outputs": [
    {
     "data": {
      "text/plain": [
       "10000"
      ]
     },
     "execution_count": 5,
     "metadata": {},
     "output_type": "execute_result"
    }
   ],
   "source": [
    "1_0000"
   ]
  },
  {
   "cell_type": "code",
   "execution_count": 6,
   "id": "efb69ad2-6f35-405c-b6e9-c28ec02531e4",
   "metadata": {},
   "outputs": [
    {
     "data": {
      "text/plain": [
       "10000"
      ]
     },
     "execution_count": 6,
     "metadata": {},
     "output_type": "execute_result"
    }
   ],
   "source": [
    "100_00"
   ]
  },
  {
   "cell_type": "code",
   "execution_count": 7,
   "id": "dcad1b4f-9f12-49ae-9871-a68c182b5deb",
   "metadata": {},
   "outputs": [
    {
     "data": {
      "text/plain": [
       "['col1', 'col2', 'col3']"
      ]
     },
     "execution_count": 7,
     "metadata": {},
     "output_type": "execute_result"
    }
   ],
   "source": [
    "[\"col1\", \"col2\", \"col3\"]"
   ]
  },
  {
   "cell_type": "code",
   "execution_count": 8,
   "id": "4dcab882-cc10-4df8-9c11-d0b4d8728efb",
   "metadata": {},
   "outputs": [
    {
     "data": {
      "text/plain": [
       "['col1', 'col2', 'col3']"
      ]
     },
     "execution_count": 8,
     "metadata": {},
     "output_type": "execute_result"
    }
   ],
   "source": [
    "[\n",
    "    \"col1\",\n",
    "    \"col2\",\n",
    "    \"col3\"\n",
    "]"
   ]
  },
  {
   "cell_type": "code",
   "execution_count": 9,
   "id": "35bc5dd5-82ff-4736-9f8d-15fa7d20ccb8",
   "metadata": {},
   "outputs": [
    {
     "data": {
      "text/plain": [
       "['col1', 'col2', 'col3']"
      ]
     },
     "execution_count": 9,
     "metadata": {},
     "output_type": "execute_result"
    }
   ],
   "source": [
    "[\n",
    "    \"col1\",\n",
    "    \"col2\",\n",
    "    \"col3\",\n",
    "]"
   ]
  },
  {
   "cell_type": "code",
   "execution_count": 10,
   "id": "177a15fb-d8b6-490b-8897-58b49da1f873",
   "metadata": {},
   "outputs": [
    {
     "data": {
      "text/plain": [
       "['col2', 'col3']"
      ]
     },
     "execution_count": 10,
     "metadata": {},
     "output_type": "execute_result"
    }
   ],
   "source": [
    "[\n",
    "    #\"col1\",\n",
    "    \"col2\",\n",
    "    \"col3\",\n",
    "]"
   ]
  },
  {
   "cell_type": "code",
   "execution_count": 11,
   "id": "3c7a93e9-4297-4c94-8d7e-0d5f32aaa50e",
   "metadata": {},
   "outputs": [
    {
     "data": {
      "text/plain": [
       "['col1', 'col2']"
      ]
     },
     "execution_count": 11,
     "metadata": {},
     "output_type": "execute_result"
    }
   ],
   "source": [
    "[\n",
    "    \"col1\",\n",
    "    \"col2\",\n",
    "    #\"col3\",\n",
    "]"
   ]
  },
  {
   "cell_type": "code",
   "execution_count": 12,
   "id": "cd090ac7-172d-4ec1-9ea3-529c794b05ae",
   "metadata": {},
   "outputs": [
    {
     "data": {
      "text/plain": [
       "['col1', 'col2']"
      ]
     },
     "execution_count": 12,
     "metadata": {},
     "output_type": "execute_result"
    }
   ],
   "source": [
    "[\n",
    "    \"col1\",\n",
    "    \"col2\"#,\n",
    "    #\"col3\",\n",
    "]"
   ]
  },
  {
   "cell_type": "code",
   "execution_count": null,
   "id": "d63de6db-9169-495c-895f-2eb087f38d9e",
   "metadata": {},
   "outputs": [],
   "source": []
  }
 ],
 "metadata": {
  "kernelspec": {
   "display_name": "Python 3 (ipykernel)",
   "language": "python",
   "name": "python3"
  },
  "language_info": {
   "codemirror_mode": {
    "name": "ipython",
    "version": 3
   },
   "file_extension": ".py",
   "mimetype": "text/x-python",
   "name": "python",
   "nbconvert_exporter": "python",
   "pygments_lexer": "ipython3",
   "version": "3.9.13"
  }
 },
 "nbformat": 4,
 "nbformat_minor": 5
}
